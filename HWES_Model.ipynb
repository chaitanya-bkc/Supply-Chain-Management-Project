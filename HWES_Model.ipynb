{
  "nbformat": 4,
  "nbformat_minor": 0,
  "metadata": {
    "colab": {
      "name": "HWES_Model",
      "provenance": [],
      "collapsed_sections": []
    },
    "kernelspec": {
      "name": "python3",
      "display_name": "Python 3"
    },
    "language_info": {
      "name": "python"
    }
  },
  "cells": [
    {
      "cell_type": "code",
      "metadata": {
        "id": "mQ17_ZAZXvpj"
      },
      "source": [
        "#importing required libraries\n",
        "import pandas as pd\n",
        "import numpy as np\n",
        "import matplotlib.pyplot as plt\n",
        "import warnings\n",
        "warnings.filterwarnings('ignore')\n",
        "from sklearn.metrics import mean_squared_error\n",
        "from sklearn.metrics import mean_absolute_error\n",
        "from math import sqrt\n",
        "%matplotlib inline\n"
      ],
      "execution_count": null,
      "outputs": []
    },
    {
      "cell_type": "code",
      "metadata": {
        "id": "CEdura8OX8md"
      },
      "source": [
        "df=pd.DataFrame() # creating a panda dataframe\n",
        "df=  pd.read_csv(\"/content/SCM-2020.csv\",index_col='Date',parse_dates=True)\n",
        "df.index.freq='MS' #frequency of data is monthly"
      ],
      "execution_count": null,
      "outputs": []
    },
    {
      "cell_type": "code",
      "metadata": {
        "id": "Yi2QUoxTYDs3"
      },
      "source": [
        "train = df.iloc[:-36, :]\n",
        "test = df.iloc[-36:, :]"
      ],
      "execution_count": null,
      "outputs": []
    },
    {
      "cell_type": "code",
      "metadata": {
        "id": "2sYoEQknYKvs",
        "colab": {
          "base_uri": "https://localhost:8080/",
          "height": 1000
        },
        "outputId": "ac425e9f-5c23-4d06-aa0a-5d1479a138ed"
      },
      "source": [
        "pred = test.copy()\n",
        "pred"
      ],
      "execution_count": null,
      "outputs": [
        {
          "output_type": "execute_result",
          "data": {
            "text/html": [
              "<div>\n",
              "<style scoped>\n",
              "    .dataframe tbody tr th:only-of-type {\n",
              "        vertical-align: middle;\n",
              "    }\n",
              "\n",
              "    .dataframe tbody tr th {\n",
              "        vertical-align: top;\n",
              "    }\n",
              "\n",
              "    .dataframe thead th {\n",
              "        text-align: right;\n",
              "    }\n",
              "</style>\n",
              "<table border=\"1\" class=\"dataframe\">\n",
              "  <thead>\n",
              "    <tr style=\"text-align: right;\">\n",
              "      <th></th>\n",
              "      <th>sales</th>\n",
              "    </tr>\n",
              "    <tr>\n",
              "      <th>Date</th>\n",
              "      <th></th>\n",
              "    </tr>\n",
              "  </thead>\n",
              "  <tbody>\n",
              "    <tr>\n",
              "      <th>2018-01-01</th>\n",
              "      <td>821</td>\n",
              "    </tr>\n",
              "    <tr>\n",
              "      <th>2018-02-01</th>\n",
              "      <td>773</td>\n",
              "    </tr>\n",
              "    <tr>\n",
              "      <th>2018-03-01</th>\n",
              "      <td>883</td>\n",
              "    </tr>\n",
              "    <tr>\n",
              "      <th>2018-04-01</th>\n",
              "      <td>898</td>\n",
              "    </tr>\n",
              "    <tr>\n",
              "      <th>2018-05-01</th>\n",
              "      <td>957</td>\n",
              "    </tr>\n",
              "    <tr>\n",
              "      <th>2018-06-01</th>\n",
              "      <td>924</td>\n",
              "    </tr>\n",
              "    <tr>\n",
              "      <th>2018-07-01</th>\n",
              "      <td>881</td>\n",
              "    </tr>\n",
              "    <tr>\n",
              "      <th>2018-08-01</th>\n",
              "      <td>837</td>\n",
              "    </tr>\n",
              "    <tr>\n",
              "      <th>2018-09-01</th>\n",
              "      <td>784</td>\n",
              "    </tr>\n",
              "    <tr>\n",
              "      <th>2018-10-01</th>\n",
              "      <td>791</td>\n",
              "    </tr>\n",
              "    <tr>\n",
              "      <th>2018-11-01</th>\n",
              "      <td>760</td>\n",
              "    </tr>\n",
              "    <tr>\n",
              "      <th>2018-12-01</th>\n",
              "      <td>802</td>\n",
              "    </tr>\n",
              "    <tr>\n",
              "      <th>2019-01-01</th>\n",
              "      <td>828</td>\n",
              "    </tr>\n",
              "    <tr>\n",
              "      <th>2019-02-01</th>\n",
              "      <td>778</td>\n",
              "    </tr>\n",
              "    <tr>\n",
              "      <th>2019-03-01</th>\n",
              "      <td>889</td>\n",
              "    </tr>\n",
              "    <tr>\n",
              "      <th>2019-04-01</th>\n",
              "      <td>902</td>\n",
              "    </tr>\n",
              "    <tr>\n",
              "      <th>2019-05-01</th>\n",
              "      <td>969</td>\n",
              "    </tr>\n",
              "    <tr>\n",
              "      <th>2019-06-01</th>\n",
              "      <td>947</td>\n",
              "    </tr>\n",
              "    <tr>\n",
              "      <th>2019-07-01</th>\n",
              "      <td>908</td>\n",
              "    </tr>\n",
              "    <tr>\n",
              "      <th>2019-08-01</th>\n",
              "      <td>867</td>\n",
              "    </tr>\n",
              "    <tr>\n",
              "      <th>2019-09-01</th>\n",
              "      <td>815</td>\n",
              "    </tr>\n",
              "    <tr>\n",
              "      <th>2019-10-01</th>\n",
              "      <td>812</td>\n",
              "    </tr>\n",
              "    <tr>\n",
              "      <th>2019-11-01</th>\n",
              "      <td>773</td>\n",
              "    </tr>\n",
              "    <tr>\n",
              "      <th>2019-12-01</th>\n",
              "      <td>813</td>\n",
              "    </tr>\n",
              "    <tr>\n",
              "      <th>2020-01-01</th>\n",
              "      <td>834</td>\n",
              "    </tr>\n",
              "    <tr>\n",
              "      <th>2020-02-01</th>\n",
              "      <td>782</td>\n",
              "    </tr>\n",
              "    <tr>\n",
              "      <th>2020-03-01</th>\n",
              "      <td>892</td>\n",
              "    </tr>\n",
              "    <tr>\n",
              "      <th>2020-04-01</th>\n",
              "      <td>903</td>\n",
              "    </tr>\n",
              "    <tr>\n",
              "      <th>2020-05-01</th>\n",
              "      <td>966</td>\n",
              "    </tr>\n",
              "    <tr>\n",
              "      <th>2020-06-01</th>\n",
              "      <td>937</td>\n",
              "    </tr>\n",
              "    <tr>\n",
              "      <th>2020-07-01</th>\n",
              "      <td>896</td>\n",
              "    </tr>\n",
              "    <tr>\n",
              "      <th>2020-08-01</th>\n",
              "      <td>858</td>\n",
              "    </tr>\n",
              "    <tr>\n",
              "      <th>2020-09-01</th>\n",
              "      <td>817</td>\n",
              "    </tr>\n",
              "    <tr>\n",
              "      <th>2020-10-01</th>\n",
              "      <td>827</td>\n",
              "    </tr>\n",
              "    <tr>\n",
              "      <th>2020-11-01</th>\n",
              "      <td>797</td>\n",
              "    </tr>\n",
              "    <tr>\n",
              "      <th>2020-12-01</th>\n",
              "      <td>843</td>\n",
              "    </tr>\n",
              "  </tbody>\n",
              "</table>\n",
              "</div>"
            ],
            "text/plain": [
              "            sales\n",
              "Date             \n",
              "2018-01-01    821\n",
              "2018-02-01    773\n",
              "2018-03-01    883\n",
              "2018-04-01    898\n",
              "2018-05-01    957\n",
              "2018-06-01    924\n",
              "2018-07-01    881\n",
              "2018-08-01    837\n",
              "2018-09-01    784\n",
              "2018-10-01    791\n",
              "2018-11-01    760\n",
              "2018-12-01    802\n",
              "2019-01-01    828\n",
              "2019-02-01    778\n",
              "2019-03-01    889\n",
              "2019-04-01    902\n",
              "2019-05-01    969\n",
              "2019-06-01    947\n",
              "2019-07-01    908\n",
              "2019-08-01    867\n",
              "2019-09-01    815\n",
              "2019-10-01    812\n",
              "2019-11-01    773\n",
              "2019-12-01    813\n",
              "2020-01-01    834\n",
              "2020-02-01    782\n",
              "2020-03-01    892\n",
              "2020-04-01    903\n",
              "2020-05-01    966\n",
              "2020-06-01    937\n",
              "2020-07-01    896\n",
              "2020-08-01    858\n",
              "2020-09-01    817\n",
              "2020-10-01    827\n",
              "2020-11-01    797\n",
              "2020-12-01    843"
            ]
          },
          "metadata": {},
          "execution_count": 13
        }
      ]
    },
    {
      "cell_type": "code",
      "metadata": {
        "colab": {
          "base_uri": "https://localhost:8080/",
          "height": 427
        },
        "id": "X_UZtZwSYTcm",
        "outputId": "1acf33d0-26ac-4c47-f3f7-ec1105493712"
      },
      "source": [
        "from statsmodels.tsa.holtwinters import ExponentialSmoothing\n",
        "\n",
        "model = ExponentialSmoothing(train, trend=\"add\", seasonal=\"add\", seasonal_periods=12)\n",
        "model2 = ExponentialSmoothing(train, trend=\"add\", seasonal=\"add\", seasonal_periods=12, damped=True)\n",
        "fit = model.fit()\n",
        "pred = fit.forecast(36)\n",
        "fit2 = model2.fit()\n",
        "pred2 = fit2.forecast(36)\n",
        "\n",
        "sse1 = np.sqrt(np.mean(np.square(test.values - pred.values)))\n",
        "sse2 = np.sqrt(np.mean(np.square(test.values - pred2.values)))\n",
        "\n",
        "fig, ax = plt.subplots(figsize=(12, 6))\n",
        "# ax.plot(train.index[24:], train.values[24:]);\n",
        "# ax.plot(test.index, test.values, label='Actual Sales');\n",
        "ax.plot(pred,label='Holts winter Predictions')\n",
        "ax.plot(test,label='Actual Sales')\n",
        "# ax.plot(test.index, pred, linestyle='--', color='#ff7823', label=\"w/o damping (RMSE={:0.2f}, AIC={:0.2f})\".format(sse1, fit.aic));\n",
        "# ax.plot(test.index, pred2, linestyle='--', color='#3c763d', label=\"damped (RMSE={:0.2f}, AIC={:0.2f})\".format(sse2, fit2.aic)); \n",
        "ax.legend();\n",
        "ax.set_title(\"Holt-Winter's Seasonal Smoothing\");"
      ],
      "execution_count": null,
      "outputs": [
        {
          "output_type": "stream",
          "name": "stderr",
          "text": [
            "/usr/local/lib/python3.7/dist-packages/statsmodels/tsa/holtwinters.py:712: ConvergenceWarning: Optimization failed to converge. Check mle_retvals.\n",
            "  ConvergenceWarning)\n"
          ]
        },
        {
          "output_type": "display_data",
          "data": {
            "image/png": "[encoded data removed]",
            "text/plain": [
              "<Figure size 864x432 with 1 Axes>"
            ]
          },
          "metadata": {
            "needs_background": "light"
          }
        }
      ]
    },
    {
      "cell_type": "code",
      "metadata": {
        "colab": {
          "base_uri": "https://localhost:8080/"
        },
        "id": "XcedykNCYf9W",
        "outputId": "da03ec9e-e53f-4000-b0a5-1d384e7d65e7"
      },
      "source": [
        "RMSE_HWES=sqrt(mean_squared_error(pred,test))\n",
        "MAE_HWES = mean_absolute_error(pred,test)\n",
        "MAPE_HWES=np.mean(np.abs((test - pred) / test)) * 100\n",
        "print('Mean Squared Error for Holts winter model is:',RMSE_HWES)\n",
        "print('Mean Absolute Deviation for Holts winter model is:',MAE_HWES)\n",
        "# print('MAPE for Holts Winter Model is:',MAPE_HWES)"
      ],
      "execution_count": null,
      "outputs": [
        {
          "output_type": "stream",
          "name": "stdout",
          "text": [
            "Mean Squared Error for Holts winter model is: 32.38790308990607\n",
            "Mean Absolute Deviation for Holts winter model is: 29.310688936924407\n"
          ]
        }
      ]
    },
    {
      "cell_type": "code",
      "metadata": {
        "id": "RkTIvVu3Y7D8",
        "colab": {
          "base_uri": "https://localhost:8080/"
        },
        "outputId": "730e55f4-b3f0-4954-8fbe-053b633f76b3"
      },
      "source": [
        "print(fit.summary())"
      ],
      "execution_count": null,
      "outputs": [
        {
          "output_type": "stream",
          "name": "stdout",
          "text": [
            "                       ExponentialSmoothing Model Results                       \n",
            "================================================================================\n",
            "Dep. Variable:                    endog   No. Observations:                  132\n",
            "Model:             ExponentialSmoothing   SSE                           5982.392\n",
            "Optimized:                         True   AIC                            535.418\n",
            "Trend:                         Additive   BIC                            581.543\n",
            "Seasonal:                      Additive   AICC                           541.471\n",
            "Seasonal Periods:                    12   Date:                 Tue, 30 Nov 2021\n",
            "Box-Cox:                          False   Time:                         16:07:37\n",
            "Box-Cox Coeff.:                    None                                         \n",
            "=================================================================================\n",
            "                          coeff                 code              optimized      \n",
            "---------------------------------------------------------------------------------\n",
            "smoothing_level               0.6827313                alpha                 True\n",
            "smoothing_slope              6.5317e-37                 beta                 True\n",
            "smoothing_seasonal             0.000000                gamma                 True\n",
            "initial_level                 690.48743                  l.0                 True\n",
            "initial_slope                 1.8474741                  b.0                 True\n",
            "initial_seasons.0            -102.31117                  s.0                 True\n",
            "initial_seasons.1            -138.62421                  s.1                 True\n",
            "initial_seasons.2            -50.655281                  s.2                 True\n",
            "initial_seasons.3            -34.963058                  s.3                 True\n",
            "initial_seasons.4             25.818637                  s.4                 True\n",
            "initial_seasons.5            -2.3032676                  s.5                 True\n",
            "initial_seasons.6            -54.155180                  s.6                 True\n",
            "initial_seasons.7            -96.454517                  s.7                 True\n",
            "initial_seasons.8            -137.02546                  s.8                 True\n",
            "initial_seasons.9            -133.49714                  s.9                 True\n",
            "initial_seasons.10           -163.51428                 s.10                 True\n",
            "initial_seasons.11           -128.09136                 s.11                 True\n",
            "---------------------------------------------------------------------------------\n"
          ]
        }
      ]
    },
    {
      "cell_type": "code",
      "metadata": {
        "id": "06S-ZSHBLFeO"
      },
      "source": [
        "  y_test, y_pred = np.array(test), np.array(pred)"
      ],
      "execution_count": null,
      "outputs": []
    },
    {
      "cell_type": "code",
      "metadata": {
        "id": "Yvi9kw_nNMu5"
      },
      "source": [
        "MAPE_HWES=np.mean(np.abs((y_test - y_pred) / y_test)) * 100"
      ],
      "execution_count": null,
      "outputs": []
    },
    {
      "cell_type": "code",
      "metadata": {
        "id": "SIbo1gX7NR5R",
        "colab": {
          "base_uri": "https://localhost:8080/"
        },
        "outputId": "728fd140-2663-4a70-d1e8-dda3fab56bdc"
      },
      "source": [
        "print('MAPE for Holts Winter Model is:',MAPE_HWES)"
      ],
      "execution_count": null,
      "outputs": [
        {
          "output_type": "stream",
          "name": "stdout",
          "text": [
            "MAPE for Holts Winter Model is: 8.551391910240195\n"
          ]
        }
      ]
    },
    {
      "cell_type": "code",
      "metadata": {
        "id": "hCVoPAxwNVE3",
        "colab": {
          "base_uri": "https://localhost:8080/"
        },
        "outputId": "93d94fcf-df88-443e-e3d6-0a2a45d64ab5"
      },
      "source": [
        "y_pred"
      ],
      "execution_count": null,
      "outputs": [
        {
          "output_type": "execute_result",
          "data": {
            "text/plain": [
              "array([ 833.872298  ,  799.40673682,  889.22313965,  906.76283623,\n",
              "        969.39200553,  943.11757511,  893.11313653,  852.66127391,\n",
              "        813.93780954,  819.3135994 ,  791.14393018,  828.41432357,\n",
              "        856.04198712,  821.57642594,  911.39282877,  928.93252535,\n",
              "        991.56169465,  965.28726424,  915.28282565,  874.83096303,\n",
              "        836.10749866,  841.48328853,  813.3136193 ,  850.58401269,\n",
              "        878.21167624,  843.74611506,  933.56251789,  951.10221447,\n",
              "       1013.73138378,  987.45695336,  937.45251477,  897.00065215,\n",
              "        858.27718778,  863.65297765,  835.48330842,  872.75370181])"
            ]
          },
          "metadata": {},
          "execution_count": 11
        }
      ]
    }
  ]
}